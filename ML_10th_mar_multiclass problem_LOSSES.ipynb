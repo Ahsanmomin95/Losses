{
 "cells": [
  {
   "cell_type": "code",
   "execution_count": 1,
   "id": "03b579a3",
   "metadata": {},
   "outputs": [],
   "source": [
    "import numpy as np\n",
    "import pandas as pd\n",
    "import matplotlib.pyplot as plt\n",
    "import seaborn as sns\n",
    "import warnings\n",
    "from sklearn.metrics import accuracy_score\n",
    "warnings.filterwarnings('ignore')"
   ]
  },
  {
   "cell_type": "code",
   "execution_count": 2,
   "id": "8888f244",
   "metadata": {},
   "outputs": [
    {
     "data": {
      "text/html": [
       "<div>\n",
       "<style scoped>\n",
       "    .dataframe tbody tr th:only-of-type {\n",
       "        vertical-align: middle;\n",
       "    }\n",
       "\n",
       "    .dataframe tbody tr th {\n",
       "        vertical-align: top;\n",
       "    }\n",
       "\n",
       "    .dataframe thead th {\n",
       "        text-align: right;\n",
       "    }\n",
       "</style>\n",
       "<table border=\"1\" class=\"dataframe\">\n",
       "  <thead>\n",
       "    <tr style=\"text-align: right;\">\n",
       "      <th></th>\n",
       "      <th>DAY</th>\n",
       "      <th>MONTH</th>\n",
       "      <th>MONTH_ID</th>\n",
       "      <th>YEAR</th>\n",
       "      <th>CAUSE</th>\n",
       "      <th>GROSS INCURRED AMOUNT</th>\n",
       "    </tr>\n",
       "  </thead>\n",
       "  <tbody>\n",
       "    <tr>\n",
       "      <th>0</th>\n",
       "      <td>1.0</td>\n",
       "      <td>January</td>\n",
       "      <td>1.0</td>\n",
       "      <td>1999.0</td>\n",
       "      <td>WINDSTORM</td>\n",
       "      <td>477.88</td>\n",
       "    </tr>\n",
       "    <tr>\n",
       "      <th>1</th>\n",
       "      <td>1.0</td>\n",
       "      <td>January</td>\n",
       "      <td>1.0</td>\n",
       "      <td>1999.0</td>\n",
       "      <td>FIRE</td>\n",
       "      <td>700.00</td>\n",
       "    </tr>\n",
       "    <tr>\n",
       "      <th>2</th>\n",
       "      <td>1.0</td>\n",
       "      <td>January</td>\n",
       "      <td>1.0</td>\n",
       "      <td>1999.0</td>\n",
       "      <td>WINDSTORM</td>\n",
       "      <td>99.87</td>\n",
       "    </tr>\n",
       "    <tr>\n",
       "      <th>3</th>\n",
       "      <td>1.0</td>\n",
       "      <td>January</td>\n",
       "      <td>1.0</td>\n",
       "      <td>1999.0</td>\n",
       "      <td>WINDSTORM</td>\n",
       "      <td>139.80</td>\n",
       "    </tr>\n",
       "    <tr>\n",
       "      <th>4</th>\n",
       "      <td>1.0</td>\n",
       "      <td>January</td>\n",
       "      <td>1.0</td>\n",
       "      <td>1999.0</td>\n",
       "      <td>WINDSTORM</td>\n",
       "      <td>548.66</td>\n",
       "    </tr>\n",
       "  </tbody>\n",
       "</table>\n",
       "</div>"
      ],
      "text/plain": [
       "   DAY    MONTH  MONTH_ID    YEAR      CAUSE  GROSS INCURRED AMOUNT\n",
       "0  1.0  January       1.0  1999.0  WINDSTORM                 477.88\n",
       "1  1.0  January       1.0  1999.0       FIRE                 700.00\n",
       "2  1.0  January       1.0  1999.0  WINDSTORM                  99.87\n",
       "3  1.0  January       1.0  1999.0  WINDSTORM                 139.80\n",
       "4  1.0  January       1.0  1999.0  WINDSTORM                 548.66"
      ]
     },
     "execution_count": 2,
     "metadata": {},
     "output_type": "execute_result"
    }
   ],
   "source": [
    "#To load dataset losses.xlsx \n",
    "#xlsx means excel file , to read data from .xlsx file : read_xlsx() \n",
    "#inbuilt method which define in pandas\n",
    "df=pd.read_excel(\"Losses.xlsx\")\n",
    "#to display first 5 records\n",
    "df.head()"
   ]
  },
  {
   "cell_type": "code",
   "execution_count": 3,
   "id": "db78c450",
   "metadata": {},
   "outputs": [
    {
     "data": {
      "text/plain": [
       "(47565, 6)"
      ]
     },
     "execution_count": 3,
     "metadata": {},
     "output_type": "execute_result"
    }
   ],
   "source": [
    "#to show no. of rows and columns \n",
    "df.shape"
   ]
  },
  {
   "cell_type": "code",
   "execution_count": 4,
   "id": "78c97a6c",
   "metadata": {},
   "outputs": [
    {
     "data": {
      "text/plain": [
       "array(['WINDSTORM', 'FIRE', 'ESCAPE OF WATER', 'SUBSIDENCE     ',\n",
       "       'FLOOD          ', 'ACCIDENTAL DAMAGE', 'THEFT', 'EARTHQUAKE     '],\n",
       "      dtype=object)"
      ]
     },
     "execution_count": 4,
     "metadata": {},
     "output_type": "execute_result"
    }
   ],
   "source": [
    "#here target /outpu variable : CAUSE \n",
    "#How many categories in Cause\n",
    "df['CAUSE'].unique()"
   ]
  },
  {
   "cell_type": "code",
   "execution_count": 5,
   "id": "7549ba08",
   "metadata": {},
   "outputs": [
    {
     "data": {
      "text/plain": [
       "ACCIDENTAL DAMAGE    17993\n",
       "WINDSTORM             9867\n",
       "THEFT                 7564\n",
       "FLOOD                 5175\n",
       "ESCAPE OF WATER       3964\n",
       "FIRE                  2046\n",
       "SUBSIDENCE             818\n",
       "EARTHQUAKE             138\n",
       "Name: CAUSE, dtype: int64"
      ]
     },
     "execution_count": 5,
     "metadata": {},
     "output_type": "execute_result"
    }
   ],
   "source": [
    "#How many samples of all categories \n",
    "df['CAUSE'].value_counts()"
   ]
  },
  {
   "cell_type": "code",
   "execution_count": 6,
   "id": "cd60b77d",
   "metadata": {},
   "outputs": [
    {
     "data": {
      "text/plain": [
       "DAY                      0\n",
       "MONTH                    0\n",
       "MONTH_ID                 0\n",
       "YEAR                     0\n",
       "CAUSE                    0\n",
       "GROSS INCURRED AMOUNT    0\n",
       "dtype: int64"
      ]
     },
     "execution_count": 6,
     "metadata": {},
     "output_type": "execute_result"
    }
   ],
   "source": [
    "#to check null values\n",
    "df.isnull().sum()"
   ]
  },
  {
   "cell_type": "code",
   "execution_count": 7,
   "id": "c502473d",
   "metadata": {},
   "outputs": [
    {
     "data": {
      "text/plain": [
       "DAY                      float64\n",
       "MONTH                     object\n",
       "MONTH_ID                 float64\n",
       "YEAR                     float64\n",
       "CAUSE                     object\n",
       "GROSS INCURRED AMOUNT    float64\n",
       "dtype: object"
      ]
     },
     "execution_count": 7,
     "metadata": {},
     "output_type": "execute_result"
    }
   ],
   "source": [
    "#to check datatypes\n",
    "df.dtypes"
   ]
  },
  {
   "cell_type": "code",
   "execution_count": 8,
   "id": "1ec5900e",
   "metadata": {},
   "outputs": [
    {
     "data": {
      "text/plain": [
       "3264"
      ]
     },
     "execution_count": 8,
     "metadata": {},
     "output_type": "execute_result"
    }
   ],
   "source": [
    "#to check duplicates rows \n",
    "df.duplicated().sum()"
   ]
  },
  {
   "cell_type": "code",
   "execution_count": 9,
   "id": "408dbbf8",
   "metadata": {},
   "outputs": [
    {
     "data": {
      "text/plain": [
       "0"
      ]
     },
     "execution_count": 9,
     "metadata": {},
     "output_type": "execute_result"
    }
   ],
   "source": [
    "#To remove duplicates rows permanently\n",
    "df.drop_duplicates(inplace=True)\n",
    "\n",
    "#to check duplicates rows \n",
    "df.duplicated().sum()"
   ]
  },
  {
   "cell_type": "code",
   "execution_count": 10,
   "id": "11172316",
   "metadata": {},
   "outputs": [
    {
     "data": {
      "text/html": [
       "<div>\n",
       "<style scoped>\n",
       "    .dataframe tbody tr th:only-of-type {\n",
       "        vertical-align: middle;\n",
       "    }\n",
       "\n",
       "    .dataframe tbody tr th {\n",
       "        vertical-align: top;\n",
       "    }\n",
       "\n",
       "    .dataframe thead th {\n",
       "        text-align: right;\n",
       "    }\n",
       "</style>\n",
       "<table border=\"1\" class=\"dataframe\">\n",
       "  <thead>\n",
       "    <tr style=\"text-align: right;\">\n",
       "      <th></th>\n",
       "      <th>DAY</th>\n",
       "      <th>MONTH_ID</th>\n",
       "      <th>YEAR</th>\n",
       "      <th>CAUSE</th>\n",
       "      <th>GROSS INCURRED AMOUNT</th>\n",
       "    </tr>\n",
       "  </thead>\n",
       "  <tbody>\n",
       "    <tr>\n",
       "      <th>0</th>\n",
       "      <td>1.0</td>\n",
       "      <td>1.0</td>\n",
       "      <td>1999.0</td>\n",
       "      <td>WINDSTORM</td>\n",
       "      <td>477.88</td>\n",
       "    </tr>\n",
       "    <tr>\n",
       "      <th>1</th>\n",
       "      <td>1.0</td>\n",
       "      <td>1.0</td>\n",
       "      <td>1999.0</td>\n",
       "      <td>FIRE</td>\n",
       "      <td>700.00</td>\n",
       "    </tr>\n",
       "    <tr>\n",
       "      <th>2</th>\n",
       "      <td>1.0</td>\n",
       "      <td>1.0</td>\n",
       "      <td>1999.0</td>\n",
       "      <td>WINDSTORM</td>\n",
       "      <td>99.87</td>\n",
       "    </tr>\n",
       "    <tr>\n",
       "      <th>3</th>\n",
       "      <td>1.0</td>\n",
       "      <td>1.0</td>\n",
       "      <td>1999.0</td>\n",
       "      <td>WINDSTORM</td>\n",
       "      <td>139.80</td>\n",
       "    </tr>\n",
       "    <tr>\n",
       "      <th>4</th>\n",
       "      <td>1.0</td>\n",
       "      <td>1.0</td>\n",
       "      <td>1999.0</td>\n",
       "      <td>WINDSTORM</td>\n",
       "      <td>548.66</td>\n",
       "    </tr>\n",
       "  </tbody>\n",
       "</table>\n",
       "</div>"
      ],
      "text/plain": [
       "   DAY  MONTH_ID    YEAR      CAUSE  GROSS INCURRED AMOUNT\n",
       "0  1.0       1.0  1999.0  WINDSTORM                 477.88\n",
       "1  1.0       1.0  1999.0       FIRE                 700.00\n",
       "2  1.0       1.0  1999.0  WINDSTORM                  99.87\n",
       "3  1.0       1.0  1999.0  WINDSTORM                 139.80\n",
       "4  1.0       1.0  1999.0  WINDSTORM                 548.66"
      ]
     },
     "execution_count": 10,
     "metadata": {},
     "output_type": "execute_result"
    }
   ],
   "source": [
    "#To remove MONTH column permanently from given dataset\n",
    "df.drop(\"MONTH\",axis=1,inplace=True)\n",
    "df.head()"
   ]
  },
  {
   "cell_type": "code",
   "execution_count": 11,
   "id": "5eb4f8a6",
   "metadata": {},
   "outputs": [
    {
     "data": {
      "text/plain": [
       "DAY                      float64\n",
       "MONTH_ID                 float64\n",
       "YEAR                     float64\n",
       "CAUSE                     object\n",
       "GROSS INCURRED AMOUNT    float64\n",
       "dtype: object"
      ]
     },
     "execution_count": 11,
     "metadata": {},
     "output_type": "execute_result"
    }
   ],
   "source": [
    "df.dtypes"
   ]
  },
  {
   "cell_type": "code",
   "execution_count": 12,
   "id": "dee0274f",
   "metadata": {},
   "outputs": [
    {
     "data": {
      "text/plain": [
       "DAY                      float64\n",
       "MONTH_ID                 float64\n",
       "YEAR                     float64\n",
       "CAUSE                      int32\n",
       "GROSS INCURRED AMOUNT    float64\n",
       "dtype: object"
      ]
     },
     "execution_count": 12,
     "metadata": {},
     "output_type": "execute_result"
    }
   ],
   "source": [
    "#Apply LAbelEncoder on CAUSE column \n",
    "from sklearn.preprocessing import LabelEncoder\n",
    "#create object of LabelEncoder class\n",
    "le=LabelEncoder()\n",
    "df['CAUSE']=le.fit_transform(df['CAUSE'])\n",
    "df.dtypes"
   ]
  },
  {
   "cell_type": "code",
   "execution_count": 13,
   "id": "7313fce6",
   "metadata": {},
   "outputs": [],
   "source": [
    "#select  input and output\n",
    "X=df.drop('CAUSE',axis=1) #input\n",
    "Y=df['CAUSE'] #output"
   ]
  },
  {
   "cell_type": "code",
   "execution_count": 14,
   "id": "e0389520",
   "metadata": {},
   "outputs": [],
   "source": [
    "# spliting the data of x and y using train_test_split\n",
    "from sklearn.model_selection import train_test_split\n",
    "X_train,X_test,Y_train,Y_test=train_test_split(X,Y,test_size=0.3,random_state=1)\n",
    "#stratify pass output value for multiclass classifier"
   ]
  },
  {
   "cell_type": "code",
   "execution_count": 15,
   "id": "e2eecd3a",
   "metadata": {},
   "outputs": [
    {
     "data": {
      "text/plain": [
       "((31010, 4), (13291, 4))"
      ]
     },
     "execution_count": 15,
     "metadata": {},
     "output_type": "execute_result"
    }
   ],
   "source": [
    "X_train.shape,X_test.shape"
   ]
  },
  {
   "cell_type": "code",
   "execution_count": 16,
   "id": "84782528",
   "metadata": {},
   "outputs": [
    {
     "data": {
      "text/plain": [
       "0    11894\n",
       "7     5758\n",
       "6     5124\n",
       "4     3471\n",
       "2     2710\n",
       "3     1434\n",
       "5      519\n",
       "1      100\n",
       "Name: CAUSE, dtype: int64"
      ]
     },
     "execution_count": 16,
     "metadata": {},
     "output_type": "execute_result"
    }
   ],
   "source": [
    "Y_train.value_counts()"
   ]
  },
  {
   "cell_type": "code",
   "execution_count": 17,
   "id": "4abebde0",
   "metadata": {},
   "outputs": [
    {
     "data": {
      "text/plain": [
       "0    5056\n",
       "7    2450\n",
       "6    2304\n",
       "4    1445\n",
       "2    1166\n",
       "3     591\n",
       "5     249\n",
       "1      30\n",
       "Name: CAUSE, dtype: int64"
      ]
     },
     "execution_count": 17,
     "metadata": {},
     "output_type": "execute_result"
    }
   ],
   "source": [
    "Y_test.value_counts()"
   ]
  },
  {
   "cell_type": "code",
   "execution_count": 18,
   "id": "22a46316",
   "metadata": {},
   "outputs": [],
   "source": [
    "#clearly understanding , data are imbalance \n",
    "#Apply Balance technology for multi class classifier : use SMOTE inbuilt\n",
    "#class which define in outer class over_sampling and over_sampling class\n",
    "#are define in inbuilt package imblearn\n",
    "#if multiclass classifier and unbalance then use SMOTE class\n",
    "from imblearn.over_sampling import SMOTE"
   ]
  },
  {
   "cell_type": "code",
   "execution_count": 19,
   "id": "b9a5a726",
   "metadata": {},
   "outputs": [],
   "source": [
    "#full form of SMOTE class :- Synthetic Minority Oversampling Technique"
   ]
  },
  {
   "cell_type": "code",
   "execution_count": 20,
   "id": "81acfcef",
   "metadata": {},
   "outputs": [],
   "source": [
    "#fit_resample() inbuilt method of SMOTE class \n",
    "X_train1,Y_train1=SMOTE().fit_resample(X_train,Y_train)"
   ]
  },
  {
   "cell_type": "code",
   "execution_count": 21,
   "id": "e0ccf41d",
   "metadata": {},
   "outputs": [
    {
     "data": {
      "text/plain": [
       "3    11894\n",
       "4    11894\n",
       "7    11894\n",
       "2    11894\n",
       "0    11894\n",
       "6    11894\n",
       "5    11894\n",
       "1    11894\n",
       "Name: CAUSE, dtype: int64"
      ]
     },
     "execution_count": 21,
     "metadata": {},
     "output_type": "execute_result"
    }
   ],
   "source": [
    "#After apply balanced on X_train,Y_train \n",
    "Y_train1.value_counts()"
   ]
  },
  {
   "cell_type": "code",
   "execution_count": 22,
   "id": "53b583fd",
   "metadata": {},
   "outputs": [],
   "source": [
    "#same balance tech apply on testing data\n",
    "X_test1,Y_test1=SMOTE().fit_resample(X_test,Y_test)"
   ]
  },
  {
   "cell_type": "code",
   "execution_count": 23,
   "id": "b90ba8da",
   "metadata": {},
   "outputs": [
    {
     "data": {
      "text/plain": [
       "7    5056\n",
       "6    5056\n",
       "0    5056\n",
       "3    5056\n",
       "2    5056\n",
       "4    5056\n",
       "5    5056\n",
       "1    5056\n",
       "Name: CAUSE, dtype: int64"
      ]
     },
     "execution_count": 23,
     "metadata": {},
     "output_type": "execute_result"
    }
   ],
   "source": [
    "##apply apply SMOTE\n",
    "Y_test1.value_counts()"
   ]
  },
  {
   "cell_type": "code",
   "execution_count": 24,
   "id": "6e70093c",
   "metadata": {},
   "outputs": [],
   "source": [
    "#apply Standard Scaler on Training input X_train1 and testing input\n",
    "#X_test1\n",
    "from sklearn.preprocessing import StandardScaler\n",
    "#create object of StandardScaler class\n",
    "ss=StandardScaler()\n",
    "X_train1=ss.fit_transform(X_train1)\n",
    "X_test1=ss.transform(X_test1)"
   ]
  },
  {
   "cell_type": "code",
   "execution_count": 25,
   "id": "9bb60485",
   "metadata": {},
   "outputs": [
    {
     "data": {
      "text/plain": [
       "array([[ 0.83907846, -1.33909224, -1.44340319, -0.28216954],\n",
       "       [ 0.62890252, -1.02459216, -0.17653162, -0.17409123],\n",
       "       [ 1.04925441,  1.80590847,  0.2457589 , -0.28801093],\n",
       "       ...,\n",
       "       [ 1.46518996,  1.19012524,  1.09033994, -0.22544767],\n",
       "       [ 0.65949557,  1.58296518,  0.96740336, -0.22544767],\n",
       "       [ 0.41872658, -1.09792343,  0.73281462, -0.14793865]])"
      ]
     },
     "execution_count": 25,
     "metadata": {},
     "output_type": "execute_result"
    }
   ],
   "source": [
    "X_train1"
   ]
  },
  {
   "cell_type": "code",
   "execution_count": 26,
   "id": "c344200d",
   "metadata": {},
   "outputs": [],
   "source": [
    "#create function for train and test the model\n",
    "def create_model(model):\n",
    "    #train the model with70% data\n",
    "    model.fit(X_train1,Y_train1)\n",
    "    # test the model with 30% data\n",
    "    Y_pred=model.predict(X_test1)\n",
    "    #generate thye report\n",
    "    print(classification_report(Y_test1,Y_pred))\n",
    "    print(confusion_matrix(Y_test1,Y_pred))\n",
    "    return model"
   ]
  },
  {
   "cell_type": "code",
   "execution_count": 27,
   "id": "b0914634",
   "metadata": {},
   "outputs": [],
   "source": [
    "from sklearn.metrics import classification_report,confusion_matrix\n",
    "from sklearn.metrics import accuracy_score"
   ]
  },
  {
   "cell_type": "code",
   "execution_count": 28,
   "id": "7d12b300",
   "metadata": {},
   "outputs": [],
   "source": [
    "#first model perform with logistic regression \n",
    "#first call LogisticRegression class\n",
    "from sklearn.linear_model import LogisticRegression\n",
    "\n",
    "#create object of LogisticRegression class\n",
    "lr=LogisticRegression()\n"
   ]
  },
  {
   "cell_type": "code",
   "execution_count": 29,
   "id": "bac4ede8",
   "metadata": {},
   "outputs": [
    {
     "name": "stdout",
     "output_type": "stream",
     "text": [
      "              precision    recall  f1-score   support\n",
      "\n",
      "           0       0.41      0.98      0.57      5056\n",
      "           1       0.00      0.00      0.00        30\n",
      "           2       0.00      0.00      0.00      1166\n",
      "           3       0.21      0.02      0.04       591\n",
      "           4       0.26      0.04      0.07      1445\n",
      "           5       0.67      0.01      0.02       249\n",
      "           6       0.00      0.00      0.00      2304\n",
      "           7       0.19      0.06      0.10      2450\n",
      "\n",
      "    accuracy                           0.39     13291\n",
      "   macro avg       0.22      0.14      0.10     13291\n",
      "weighted avg       0.24      0.39      0.25     13291\n",
      "\n",
      "38.89% Accurate\n"
     ]
    }
   ],
   "source": [
    "lr= LogisticRegression()\n",
    "lr.fit(X_train, Y_train)\n",
    "Y_pred = lr.predict(X_test)\n",
    "\n",
    "#  prediction Summary by species\n",
    "print(classification_report(Y_test, Y_pred))\n",
    "\n",
    "# Accuracy score\n",
    "LRC = accuracy_score(Y_pred,Y_test)\n",
    "print(f\"{round(LRC*100,2)}% Accurate\")"
   ]
  },
  {
   "cell_type": "code",
   "execution_count": 30,
   "id": "1ca964ea",
   "metadata": {},
   "outputs": [],
   "source": [
    "from sklearn.tree import DecisionTreeClassifier"
   ]
  },
  {
   "cell_type": "code",
   "execution_count": 31,
   "id": "0189a929",
   "metadata": {},
   "outputs": [],
   "source": [
    "#create the object of DecisionTreeClassifier class \n",
    "dt=DecisionTreeClassifier() #bydefault gini index method\n",
    "\n"
   ]
  },
  {
   "cell_type": "code",
   "execution_count": 32,
   "id": "0310a495",
   "metadata": {},
   "outputs": [
    {
     "name": "stdout",
     "output_type": "stream",
     "text": [
      "              precision    recall  f1-score   support\n",
      "\n",
      "           0       0.45      0.45      0.45      5056\n",
      "           1       0.68      0.83      0.75        30\n",
      "           2       0.16      0.16      0.16      1166\n",
      "           3       0.08      0.09      0.09       591\n",
      "           4       0.25      0.26      0.26      1445\n",
      "           5       0.22      0.18      0.20       249\n",
      "           6       0.20      0.20      0.20      2304\n",
      "           7       0.43      0.43      0.43      2450\n",
      "\n",
      "    accuracy                           0.34     13291\n",
      "   macro avg       0.31      0.33      0.32     13291\n",
      "weighted avg       0.34      0.34      0.34     13291\n",
      "\n",
      "33.52% Accurate\n"
     ]
    }
   ],
   "source": [
    "dt = DecisionTreeClassifier()\n",
    "dt.fit(X_train, Y_train)\n",
    "Y_pred = dt.predict(X_test)\n",
    "\n",
    "#  prediction Summary by species\n",
    "print(classification_report(Y_test, Y_pred))\n",
    "\n",
    "# Accuracy score\n",
    "DTC = accuracy_score(Y_pred,Y_test)\n",
    "print(f\"{round(DTC*100,2)}% Accurate\")"
   ]
  },
  {
   "cell_type": "code",
   "execution_count": 33,
   "id": "40499d4d",
   "metadata": {},
   "outputs": [
    {
     "name": "stdout",
     "output_type": "stream",
     "text": [
      "information Gain : [0.28276596 0.16003885 0.09981358 0.45738161]\n"
     ]
    },
    {
     "data": {
      "text/html": [
       "<div>\n",
       "<style scoped>\n",
       "    .dataframe tbody tr th:only-of-type {\n",
       "        vertical-align: middle;\n",
       "    }\n",
       "\n",
       "    .dataframe tbody tr th {\n",
       "        vertical-align: top;\n",
       "    }\n",
       "\n",
       "    .dataframe thead th {\n",
       "        text-align: right;\n",
       "    }\n",
       "</style>\n",
       "<table border=\"1\" class=\"dataframe\">\n",
       "  <thead>\n",
       "    <tr style=\"text-align: right;\">\n",
       "      <th></th>\n",
       "      <th>Input</th>\n",
       "      <th>IG</th>\n",
       "    </tr>\n",
       "  </thead>\n",
       "  <tbody>\n",
       "    <tr>\n",
       "      <th>3</th>\n",
       "      <td>GROSS INCURRED AMOUNT</td>\n",
       "      <td>0.457382</td>\n",
       "    </tr>\n",
       "    <tr>\n",
       "      <th>0</th>\n",
       "      <td>DAY</td>\n",
       "      <td>0.282766</td>\n",
       "    </tr>\n",
       "    <tr>\n",
       "      <th>1</th>\n",
       "      <td>MONTH_ID</td>\n",
       "      <td>0.160039</td>\n",
       "    </tr>\n",
       "    <tr>\n",
       "      <th>2</th>\n",
       "      <td>YEAR</td>\n",
       "      <td>0.099814</td>\n",
       "    </tr>\n",
       "  </tbody>\n",
       "</table>\n",
       "</div>"
      ],
      "text/plain": [
       "                   Input        IG\n",
       "3  GROSS INCURRED AMOUNT  0.457382\n",
       "0                    DAY  0.282766\n",
       "1               MONTH_ID  0.160039\n",
       "2                   YEAR  0.099814"
      ]
     },
     "execution_count": 33,
     "metadata": {},
     "output_type": "execute_result"
    }
   ],
   "source": [
    "#show the information gain of all input features \n",
    "IG=dt.feature_importances_\n",
    "print(\"information Gain :\",IG)\n",
    "dict={'Input':X.columns,'IG':IG}\n",
    "df=pd.DataFrame(dict)\n",
    "df.sort_values('IG',ascending=False)#descending order according to IG"
   ]
  },
  {
   "cell_type": "code",
   "execution_count": 34,
   "id": "49b9d19a",
   "metadata": {},
   "outputs": [
    {
     "data": {
      "text/plain": [
       "<Figure size 1440x1440 with 0 Axes>"
      ]
     },
     "metadata": {},
     "output_type": "display_data"
    }
   ],
   "source": [
    "#create the tree \n",
    "\n",
    "from sklearn import tree\n",
    "features=X.columns #input features\n",
    "fig=plt.figure(figsize=(20,20))\n",
    "#_=tree.plot_tree(dt,feature_names=features,filled=True)"
   ]
  },
  {
   "cell_type": "code",
   "execution_count": 35,
   "id": "0426a92a",
   "metadata": {},
   "outputs": [],
   "source": [
    "from sklearn.svm import LinearSVC"
   ]
  },
  {
   "cell_type": "code",
   "execution_count": 36,
   "id": "a3b7c84b",
   "metadata": {},
   "outputs": [],
   "source": [
    "#create object of LinearSVC class\n",
    "svc=LinearSVC(random_state=1) #hard margin- before adding error is known as hard margin#create object of LinearSVC class\n",
    "\n"
   ]
  },
  {
   "cell_type": "code",
   "execution_count": 37,
   "id": "6e112309",
   "metadata": {},
   "outputs": [
    {
     "name": "stdout",
     "output_type": "stream",
     "text": [
      "              precision    recall  f1-score   support\n",
      "\n",
      "           0       0.46      0.78      0.58      5056\n",
      "           1       0.00      0.00      0.00        30\n",
      "           2       0.00      0.00      0.00      1166\n",
      "           3       0.01      0.00      0.00       591\n",
      "           4       0.00      0.00      0.00      1445\n",
      "           5       0.03      0.56      0.06       249\n",
      "           6       0.00      0.00      0.00      2304\n",
      "           7       0.00      0.00      0.00      2450\n",
      "\n",
      "    accuracy                           0.31     13291\n",
      "   macro avg       0.06      0.17      0.08     13291\n",
      "weighted avg       0.17      0.31      0.22     13291\n",
      "\n",
      "30.86% Accurate\n"
     ]
    }
   ],
   "source": [
    "svc= LinearSVC()\n",
    "svc.fit(X_train, Y_train)\n",
    "Y_pred = svc.predict(X_test)\n",
    "\n",
    "#  prediction Summary by species\n",
    "print(classification_report(Y_test, Y_pred))\n",
    "\n",
    "# Accuracy score\n",
    "SVC = accuracy_score(Y_pred,Y_test)\n",
    "print(f\"{round(SVC*100,2)}% Accurate\")"
   ]
  },
  {
   "cell_type": "code",
   "execution_count": 38,
   "id": "5d506392",
   "metadata": {},
   "outputs": [],
   "source": [
    "#Use ENsembling Technique : -\n",
    "#1. RandomForestTree : use DecisionTreeClassifier Algorithm \n",
    "from sklearn.ensemble import RandomForestClassifier"
   ]
  },
  {
   "cell_type": "code",
   "execution_count": 39,
   "id": "63c2e8db",
   "metadata": {},
   "outputs": [],
   "source": [
    "#create object of RandomForestClassifier class and passing some parameters\n",
    "rfc=RandomForestClassifier(n_estimators=10,max_features=4,random_state=1)\n",
    "#n_estimators : no. of algorithm (>=10 and <=100) \n",
    "#algorithm : DecisionTreeClassifer\n",
    "\n"
   ]
  },
  {
   "cell_type": "code",
   "execution_count": 40,
   "id": "2ddd070c",
   "metadata": {},
   "outputs": [
    {
     "name": "stdout",
     "output_type": "stream",
     "text": [
      "              precision    recall  f1-score   support\n",
      "\n",
      "           0       0.47      0.62      0.53      5056\n",
      "           1       0.84      0.87      0.85        30\n",
      "           2       0.18      0.13      0.15      1166\n",
      "           3       0.13      0.08      0.10       591\n",
      "           4       0.29      0.27      0.28      1445\n",
      "           5       0.23      0.13      0.16       249\n",
      "           6       0.23      0.17      0.19      2304\n",
      "           7       0.50      0.46      0.48      2450\n",
      "\n",
      "    accuracy                           0.40     13291\n",
      "   macro avg       0.36      0.34      0.34     13291\n",
      "weighted avg       0.37      0.40      0.38     13291\n",
      "\n",
      "39.61% Accurate\n"
     ]
    }
   ],
   "source": [
    "rfc= RandomForestClassifier()\n",
    "rfc.fit(X_train, Y_train)\n",
    "Y_pred = rfc.predict(X_test)\n",
    "\n",
    "#  prediction Summary by species\n",
    "print(classification_report(Y_test, Y_pred))\n",
    "\n",
    "# Accuracy score\n",
    "RFC = accuracy_score(Y_pred,Y_test)\n",
    "print(f\"{round(RFC*100,2)}% Accurate\")"
   ]
  },
  {
   "cell_type": "code",
   "execution_count": 41,
   "id": "ab91849e",
   "metadata": {
    "scrolled": false
   },
   "outputs": [
    {
     "data": {
      "text/plain": [
       "'for n in range(10,101):\\n    rfc=RandomForestClassifier(n_estimators=13,random_state=1)\\n    print(\"No. of trees : \",n)\\n    rfc=create_model(rfc)'"
      ]
     },
     "execution_count": 41,
     "metadata": {},
     "output_type": "execute_result"
    }
   ],
   "source": [
    "'''for n in range(10,101):\n",
    "    rfc=RandomForestClassifier(n_estimators=13,random_state=1)\n",
    "    print(\"No. of trees : \",n)\n",
    "    rfc=create_model(rfc)'''"
   ]
  },
  {
   "cell_type": "code",
   "execution_count": 42,
   "id": "5f234e56",
   "metadata": {},
   "outputs": [
    {
     "data": {
      "text/plain": [
       "(31010, 4)"
      ]
     },
     "execution_count": 42,
     "metadata": {},
     "output_type": "execute_result"
    }
   ],
   "source": [
    "X_train.shape"
   ]
  },
  {
   "cell_type": "code",
   "execution_count": 43,
   "id": "de96d09a",
   "metadata": {},
   "outputs": [],
   "source": [
    "# #show the information gain of all input features \n",
    "# IG=rfc.feature_importances_\n",
    "# #print(\"information Gain :\",IG)\n",
    "\n",
    "# dict={'Input':X.columns,'IG':IG}\n",
    "# df=pd.DataFrame(dict)\n",
    "# df.sort_values('IG',ascending=False)#descending order according to IG"
   ]
  },
  {
   "cell_type": "code",
   "execution_count": 44,
   "id": "21673d55",
   "metadata": {},
   "outputs": [],
   "source": [
    "#Apply Ensembling Technique Boosting \n",
    "#1. first apply ADA Boost : call inbuilt class AdaBoostClassifier\n",
    "from sklearn.ensemble import AdaBoostClassifier"
   ]
  },
  {
   "cell_type": "code",
   "execution_count": 45,
   "id": "d2e9fec5",
   "metadata": {},
   "outputs": [
    {
     "name": "stdout",
     "output_type": "stream",
     "text": [
      "              precision    recall  f1-score   support\n",
      "\n",
      "           0       0.00      0.00      0.00      5056\n",
      "           1       0.59      0.86      0.70      5056\n",
      "           2       0.17      0.87      0.28      5056\n",
      "           3       0.00      0.00      0.00      5056\n",
      "           4       0.00      0.00      0.00      5056\n",
      "           5       0.45      0.26      0.33      5056\n",
      "           6       0.00      0.00      0.00      5056\n",
      "           7       0.25      0.19      0.21      5056\n",
      "\n",
      "    accuracy                           0.27     40448\n",
      "   macro avg       0.18      0.27      0.19     40448\n",
      "weighted avg       0.18      0.27      0.19     40448\n",
      "\n",
      "[[   0  591 3445    0    0   17    0 1003]\n",
      " [   0 4350  295    0    0  338    0   73]\n",
      " [   0  383 4411    0    0   91    0  171]\n",
      " [   0  253 4041    0    0  540    0  222]\n",
      " [   0  441 3511    0    0  351    0  753]\n",
      " [   0  329 3353    0    0 1301    0   73]\n",
      " [   0  530 3905    0    0  122    0  499]\n",
      " [   0  543 3464    0    0  112    0  937]]\n"
     ]
    }
   ],
   "source": [
    "#create the object of AdaBoostClassifier class\n",
    "#ADA Boost creates decision stump (means one root node and 2 leaf node)\n",
    "#leaf node : no any childs\n",
    "ada=AdaBoostClassifier(n_estimators=3,random_state=1)\n",
    "#call function\n",
    "ada=create_model(ada)\n"
   ]
  },
  {
   "cell_type": "code",
   "execution_count": 46,
   "id": "17f2c0b3",
   "metadata": {},
   "outputs": [
    {
     "name": "stdout",
     "output_type": "stream",
     "text": [
      "              precision    recall  f1-score   support\n",
      "\n",
      "           0       0.45      0.83      0.58      5056\n",
      "           1       0.57      0.83      0.68        30\n",
      "           2       0.18      0.03      0.05      1166\n",
      "           3       0.20      0.03      0.04       591\n",
      "           4       0.25      0.35      0.29      1445\n",
      "           5       0.82      0.06      0.11       249\n",
      "           6       0.25      0.03      0.06      2304\n",
      "           7       0.43      0.23      0.30      2450\n",
      "\n",
      "    accuracy                           0.41     13291\n",
      "   macro avg       0.39      0.30      0.26     13291\n",
      "weighted avg       0.36      0.41      0.33     13291\n",
      "\n",
      "40.75% Accurate\n"
     ]
    }
   ],
   "source": [
    "ada= AdaBoostClassifier()\n",
    "ada.fit(X_train, Y_train)\n",
    "Y_pred = ada.predict(X_test)\n",
    "\n",
    "#  prediction Summary by species\n",
    "print(classification_report(Y_test, Y_pred))\n",
    "\n",
    "# Accuracy score\n",
    "ADA= accuracy_score(Y_pred,Y_test)\n",
    "print(f\"{round(ADA*100,2)}% Accurate\")"
   ]
  },
  {
   "cell_type": "code",
   "execution_count": 47,
   "id": "f8389f1a",
   "metadata": {},
   "outputs": [
    {
     "data": {
      "text/html": [
       "<div>\n",
       "<style scoped>\n",
       "    .dataframe tbody tr th:only-of-type {\n",
       "        vertical-align: middle;\n",
       "    }\n",
       "\n",
       "    .dataframe tbody tr th {\n",
       "        vertical-align: top;\n",
       "    }\n",
       "\n",
       "    .dataframe thead th {\n",
       "        text-align: right;\n",
       "    }\n",
       "</style>\n",
       "<table border=\"1\" class=\"dataframe\">\n",
       "  <thead>\n",
       "    <tr style=\"text-align: right;\">\n",
       "      <th></th>\n",
       "      <th>Input</th>\n",
       "      <th>IG</th>\n",
       "    </tr>\n",
       "  </thead>\n",
       "  <tbody>\n",
       "    <tr>\n",
       "      <th>2</th>\n",
       "      <td>YEAR</td>\n",
       "      <td>0.46</td>\n",
       "    </tr>\n",
       "    <tr>\n",
       "      <th>0</th>\n",
       "      <td>DAY</td>\n",
       "      <td>0.20</td>\n",
       "    </tr>\n",
       "    <tr>\n",
       "      <th>3</th>\n",
       "      <td>GROSS INCURRED AMOUNT</td>\n",
       "      <td>0.20</td>\n",
       "    </tr>\n",
       "    <tr>\n",
       "      <th>1</th>\n",
       "      <td>MONTH_ID</td>\n",
       "      <td>0.14</td>\n",
       "    </tr>\n",
       "  </tbody>\n",
       "</table>\n",
       "</div>"
      ],
      "text/plain": [
       "                   Input    IG\n",
       "2                   YEAR  0.46\n",
       "0                    DAY  0.20\n",
       "3  GROSS INCURRED AMOUNT  0.20\n",
       "1               MONTH_ID  0.14"
      ]
     },
     "execution_count": 47,
     "metadata": {},
     "output_type": "execute_result"
    }
   ],
   "source": [
    "#check impotant features\n",
    "dict={'Input':X.columns,'IG':ada.feature_importances_}\n",
    "df=pd.DataFrame(dict)\n",
    "df.sort_values('IG',ascending=False)"
   ]
  },
  {
   "cell_type": "code",
   "execution_count": 48,
   "id": "1719af5f",
   "metadata": {},
   "outputs": [],
   "source": [
    "#call GradientBoostingClassifier class from following package\n",
    "from sklearn.ensemble import GradientBoostingClassifier"
   ]
  },
  {
   "cell_type": "code",
   "execution_count": 49,
   "id": "eeed63f9",
   "metadata": {
    "scrolled": false
   },
   "outputs": [
    {
     "name": "stdout",
     "output_type": "stream",
     "text": [
      "              precision    recall  f1-score   support\n",
      "\n",
      "           0       0.42      0.43      0.42      5056\n",
      "           1       0.96      0.86      0.91      5056\n",
      "           2       0.30      0.66      0.41      5056\n",
      "           3       0.21      0.01      0.02      5056\n",
      "           4       0.28      0.65      0.39      5056\n",
      "           5       0.45      0.40      0.42      5056\n",
      "           6       0.24      0.01      0.01      5056\n",
      "           7       0.50      0.28      0.36      5056\n",
      "\n",
      "    accuracy                           0.41     40448\n",
      "   macro avg       0.42      0.41      0.37     40448\n",
      "weighted avg       0.42      0.41      0.37     40448\n",
      "\n",
      "[[2173   73 1226   17  914  157   10  486]\n",
      " [   0 4350  127    0  172  407    0    0]\n",
      " [ 337    3 3320   15  738  337   20  286]\n",
      " [ 242   15 2014   40 1914  637   28  166]\n",
      " [ 819   39  246   28 3282  476   16  150]\n",
      " [ 211    6 1142   35 1570 2028   17   47]\n",
      " [ 918   28 1738   35 1817  220   36  264]\n",
      " [ 529   21 1389   24 1383  290   23 1397]]\n"
     ]
    }
   ],
   "source": [
    "#create the object of GradientBoostingClassifier class\n",
    "gbc=GradientBoostingClassifier(random_state=1,n_estimators=4)\n",
    "#n_estimators inbuilt parameter of GradientBoostingClassifier class\n",
    "#means no. of iterations , min =10 and max=100 \n",
    "#n_estimators >=10 and <=100 \n",
    "#call function\n",
    "gbc=create_model(gbc)\n"
   ]
  },
  {
   "cell_type": "code",
   "execution_count": 50,
   "id": "9e4692c4",
   "metadata": {},
   "outputs": [
    {
     "name": "stdout",
     "output_type": "stream",
     "text": [
      "              precision    recall  f1-score   support\n",
      "\n",
      "           0       0.46      0.88      0.60      5056\n",
      "           1       0.67      0.87      0.75        30\n",
      "           2       0.26      0.04      0.07      1166\n",
      "           3       0.37      0.05      0.08       591\n",
      "           4       0.38      0.26      0.31      1445\n",
      "           5       0.57      0.24      0.33       249\n",
      "           6       0.35      0.06      0.10      2304\n",
      "           7       0.56      0.44      0.50      2450\n",
      "\n",
      "    accuracy                           0.47     13291\n",
      "   macro avg       0.45      0.35      0.34     13291\n",
      "weighted avg       0.43      0.47      0.39     13291\n",
      "\n",
      "46.54% Accurate\n"
     ]
    }
   ],
   "source": [
    "gbc= GradientBoostingClassifier()\n",
    "gbc.fit(X_train, Y_train)\n",
    "Y_pred = gbc.predict(X_test)\n",
    "\n",
    "#  prediction Summary by species\n",
    "print(classification_report(Y_test, Y_pred))\n",
    "\n",
    "# Accuracy score\n",
    "GBC= accuracy_score(Y_pred,Y_test)\n",
    "print(f\"{round(GBC*100,2)}% Accurate\")"
   ]
  },
  {
   "cell_type": "code",
   "execution_count": 51,
   "id": "4a67323c",
   "metadata": {},
   "outputs": [
    {
     "data": {
      "text/html": [
       "<div>\n",
       "<style scoped>\n",
       "    .dataframe tbody tr th:only-of-type {\n",
       "        vertical-align: middle;\n",
       "    }\n",
       "\n",
       "    .dataframe tbody tr th {\n",
       "        vertical-align: top;\n",
       "    }\n",
       "\n",
       "    .dataframe thead th {\n",
       "        text-align: right;\n",
       "    }\n",
       "</style>\n",
       "<table border=\"1\" class=\"dataframe\">\n",
       "  <thead>\n",
       "    <tr style=\"text-align: right;\">\n",
       "      <th></th>\n",
       "      <th>Input</th>\n",
       "      <th>IG</th>\n",
       "    </tr>\n",
       "  </thead>\n",
       "  <tbody>\n",
       "    <tr>\n",
       "      <th>3</th>\n",
       "      <td>GROSS INCURRED AMOUNT</td>\n",
       "      <td>0.448747</td>\n",
       "    </tr>\n",
       "    <tr>\n",
       "      <th>2</th>\n",
       "      <td>YEAR</td>\n",
       "      <td>0.248252</td>\n",
       "    </tr>\n",
       "    <tr>\n",
       "      <th>1</th>\n",
       "      <td>MONTH_ID</td>\n",
       "      <td>0.173022</td>\n",
       "    </tr>\n",
       "    <tr>\n",
       "      <th>0</th>\n",
       "      <td>DAY</td>\n",
       "      <td>0.129979</td>\n",
       "    </tr>\n",
       "  </tbody>\n",
       "</table>\n",
       "</div>"
      ],
      "text/plain": [
       "                   Input        IG\n",
       "3  GROSS INCURRED AMOUNT  0.448747\n",
       "2                   YEAR  0.248252\n",
       "1               MONTH_ID  0.173022\n",
       "0                    DAY  0.129979"
      ]
     },
     "execution_count": 51,
     "metadata": {},
     "output_type": "execute_result"
    }
   ],
   "source": [
    "#check impotant features\n",
    "dict={'Input':X.columns,'IG':gbc.feature_importances_}\n",
    "df=pd.DataFrame(dict)\n",
    "df.sort_values('IG',ascending=False)"
   ]
  },
  {
   "cell_type": "code",
   "execution_count": 52,
   "id": "1f53bcdd",
   "metadata": {},
   "outputs": [],
   "source": [
    "from xgboost import XGBClassifier"
   ]
  },
  {
   "cell_type": "code",
   "execution_count": 53,
   "id": "0dce3638",
   "metadata": {},
   "outputs": [],
   "source": [
    "#create object of class XGBClassifier\n",
    "xgb=XGBClassifier(n_estimators=10 ,reg_alpha=1)\n",
    "#reg means regularation : lambda or alpha\n",
    "#automatic overfitting : reg means regularation and alpha or lambda : \n",
    "#hyperparameter\n",
    "#1 means True\n"
   ]
  },
  {
   "cell_type": "code",
   "execution_count": 54,
   "id": "23d3ef31",
   "metadata": {},
   "outputs": [
    {
     "name": "stdout",
     "output_type": "stream",
     "text": [
      "              precision    recall  f1-score   support\n",
      "\n",
      "           0       0.48      0.85      0.61      5056\n",
      "           1       0.82      0.90      0.86        30\n",
      "           2       0.24      0.08      0.12      1166\n",
      "           3       0.31      0.06      0.09       591\n",
      "           4       0.35      0.24      0.28      1445\n",
      "           5       0.52      0.24      0.33       249\n",
      "           6       0.34      0.10      0.16      2304\n",
      "           7       0.60      0.48      0.53      2450\n",
      "\n",
      "    accuracy                           0.47     13291\n",
      "   macro avg       0.46      0.37      0.37     13291\n",
      "weighted avg       0.43      0.47      0.41     13291\n",
      "\n",
      "47.02% Accurate\n"
     ]
    }
   ],
   "source": [
    "xgb= XGBClassifier()\n",
    "xgb.fit(X_train, Y_train)\n",
    "Y_pred = xgb.predict(X_test)\n",
    "\n",
    "#  prediction Summary by species\n",
    "print(classification_report(Y_test, Y_pred))\n",
    "\n",
    "# Accuracy score\n",
    "XGB= accuracy_score(Y_pred,Y_test)\n",
    "print(f\"{round(XGB*100,2)}% Accurate\")"
   ]
  },
  {
   "cell_type": "code",
   "execution_count": 55,
   "id": "8252228b",
   "metadata": {},
   "outputs": [
    {
     "data": {
      "text/plain": [
       "'for i in range(10,101):\\n    xgb=XGBClassifier(n_estimators=i ,reg_alpha=1)\\n    print(\"No. of iterations : \",i)\\n    #call function\\n    xgb=create_model(xgb)'"
      ]
     },
     "execution_count": 55,
     "metadata": {},
     "output_type": "execute_result"
    }
   ],
   "source": [
    "'''for i in range(10,101):\n",
    "    xgb=XGBClassifier(n_estimators=i ,reg_alpha=1)\n",
    "    print(\"No. of iterations : \",i)\n",
    "    #call function\n",
    "    xgb=create_model(xgb)'''"
   ]
  },
  {
   "cell_type": "code",
   "execution_count": 56,
   "id": "43ea0378",
   "metadata": {},
   "outputs": [],
   "source": [
    "from sklearn.neighbors import KNeighborsClassifier"
   ]
  },
  {
   "cell_type": "code",
   "execution_count": 57,
   "id": "95981220",
   "metadata": {},
   "outputs": [],
   "source": [
    "#create the object of KNeighborsClassifier class and passing the \n",
    "#following parameter\n",
    "knn=KNeighborsClassifier(n_neighbors=5,metric='minkowski',p=2)\n",
    "#p=2 means Euclidean distance method"
   ]
  },
  {
   "cell_type": "code",
   "execution_count": 58,
   "id": "1d778527",
   "metadata": {},
   "outputs": [
    {
     "data": {
      "text/plain": [
       "'for k in range(5,10,2):  #k=5 next k=7 k=9\\n    knn=KNeighborsClassifier(n_neighbors=k,metric=\\'minkowski\\',p=2)\\n    print(\"K=\",k)\\n    #call function\\n    knn=create_model(knn)'"
      ]
     },
     "execution_count": 58,
     "metadata": {},
     "output_type": "execute_result"
    }
   ],
   "source": [
    "'''for k in range(5,10,2):  #k=5 next k=7 k=9\n",
    "    knn=KNeighborsClassifier(n_neighbors=k,metric='minkowski',p=2)\n",
    "    print(\"K=\",k)\n",
    "    #call function\n",
    "    knn=create_model(knn)'''"
   ]
  },
  {
   "cell_type": "code",
   "execution_count": 59,
   "id": "9df22979",
   "metadata": {},
   "outputs": [
    {
     "name": "stdout",
     "output_type": "stream",
     "text": [
      "              precision    recall  f1-score   support\n",
      "\n",
      "           0       0.44      0.70      0.54      5056\n",
      "           1       0.06      0.03      0.04        30\n",
      "           2       0.15      0.08      0.10      1166\n",
      "           3       0.11      0.05      0.07       591\n",
      "           4       0.23      0.20      0.22      1445\n",
      "           5       0.32      0.13      0.19       249\n",
      "           6       0.22      0.13      0.16      2304\n",
      "           7       0.36      0.24      0.29      2450\n",
      "\n",
      "    accuracy                           0.37     13291\n",
      "   macro avg       0.24      0.20      0.20     13291\n",
      "weighted avg       0.32      0.37      0.33     13291\n",
      "\n",
      "36.69% Accurate\n"
     ]
    }
   ],
   "source": [
    "knn= KNeighborsClassifier()\n",
    "knn.fit(X_train, Y_train)\n",
    "Y_pred = knn.predict(X_test)\n",
    "\n",
    "#  prediction Summary by species\n",
    "print(classification_report(Y_test, Y_pred))\n",
    "\n",
    "# Accuracy score\n",
    "KNN= accuracy_score(Y_pred,Y_test)\n",
    "print(f\"{round(KNN*100,2)}% Accurate\")"
   ]
  },
  {
   "cell_type": "code",
   "execution_count": 60,
   "id": "1710d370",
   "metadata": {},
   "outputs": [
    {
     "data": {
      "text/html": [
       "<div>\n",
       "<style scoped>\n",
       "    .dataframe tbody tr th:only-of-type {\n",
       "        vertical-align: middle;\n",
       "    }\n",
       "\n",
       "    .dataframe tbody tr th {\n",
       "        vertical-align: top;\n",
       "    }\n",
       "\n",
       "    .dataframe thead th {\n",
       "        text-align: right;\n",
       "    }\n",
       "</style>\n",
       "<table border=\"1\" class=\"dataframe\">\n",
       "  <thead>\n",
       "    <tr style=\"text-align: right;\">\n",
       "      <th></th>\n",
       "      <th>n_neighbors</th>\n",
       "      <th>Score</th>\n",
       "    </tr>\n",
       "  </thead>\n",
       "  <tbody>\n",
       "    <tr>\n",
       "      <th>2</th>\n",
       "      <td>XGBoost</td>\n",
       "      <td>0.470243</td>\n",
       "    </tr>\n",
       "    <tr>\n",
       "      <th>7</th>\n",
       "      <td>Gradient Boost</td>\n",
       "      <td>0.465428</td>\n",
       "    </tr>\n",
       "    <tr>\n",
       "      <th>6</th>\n",
       "      <td>ADA BOOST</td>\n",
       "      <td>0.407494</td>\n",
       "    </tr>\n",
       "    <tr>\n",
       "      <th>1</th>\n",
       "      <td>Random Forest</td>\n",
       "      <td>0.396057</td>\n",
       "    </tr>\n",
       "    <tr>\n",
       "      <th>3</th>\n",
       "      <td>Logistic Regression</td>\n",
       "      <td>0.388910</td>\n",
       "    </tr>\n",
       "    <tr>\n",
       "      <th>4</th>\n",
       "      <td>K-Neighbors</td>\n",
       "      <td>0.366865</td>\n",
       "    </tr>\n",
       "    <tr>\n",
       "      <th>0</th>\n",
       "      <td>Decision Tree</td>\n",
       "      <td>0.335189</td>\n",
       "    </tr>\n",
       "    <tr>\n",
       "      <th>5</th>\n",
       "      <td>Support vector</td>\n",
       "      <td>0.308630</td>\n",
       "    </tr>\n",
       "  </tbody>\n",
       "</table>\n",
       "</div>"
      ],
      "text/plain": [
       "           n_neighbors     Score\n",
       "2              XGBoost  0.470243\n",
       "7       Gradient Boost  0.465428\n",
       "6            ADA BOOST  0.407494\n",
       "1        Random Forest  0.396057\n",
       "3  Logistic Regression  0.388910\n",
       "4          K-Neighbors  0.366865\n",
       "0        Decision Tree  0.335189\n",
       "5       Support vector  0.308630"
      ]
     },
     "execution_count": 60,
     "metadata": {},
     "output_type": "execute_result"
    }
   ],
   "source": [
    "score = [DTC,RFC,XGB,LRC,KNN,SVC,ADA,GBC]\n",
    "Models = pd.DataFrame({'n_neighbors': [\"Decision Tree\",\"Random Forest\",\"XGBoost\", \"Logistic Regression\",\"K-Neighbors\",\"Support vector\",\"ADA BOOST\",\"Gradient Boost\"],'Score': score})\n",
    "Models.sort_values(by='Score',ascending=False)"
   ]
  },
  {
   "cell_type": "code",
   "execution_count": null,
   "id": "9d68e612",
   "metadata": {},
   "outputs": [],
   "source": [
    "#CONCLUSION FROM THE ABOVE ALGO XGBOOST GIVES BEST RESULT WITH 47.02% score"
   ]
  },
  {
   "cell_type": "code",
   "execution_count": 1,
   "id": "7703fa8c",
   "metadata": {},
   "outputs": [],
   "source": [
    "X='THE DATASET BASICALLY FOCUSS ON THE LOSSES OCCURED DUE TP THESE CALAMITIES OCCURED ACCIDENTAL ,DAMAGE ,WINDSTORM ,THEFT ,ESCAPE OF WATER , SUBSIDENCE, EARTHQUAKE' "
   ]
  },
  {
   "cell_type": "code",
   "execution_count": 4,
   "id": "7e52adac",
   "metadata": {},
   "outputs": [
    {
     "data": {
      "text/plain": [
       "'the dataset basically focuss on the losses occured due tp these calamities occured accidental ,damage ,windstorm ,theft ,escape of water , subsidence, earthquake'"
      ]
     },
     "execution_count": 4,
     "metadata": {},
     "output_type": "execute_result"
    }
   ],
   "source": [
    "X.lower()"
   ]
  }
 ],
 "metadata": {
  "kernelspec": {
   "display_name": "Python 3 (ipykernel)",
   "language": "python",
   "name": "python3"
  },
  "language_info": {
   "codemirror_mode": {
    "name": "ipython",
    "version": 3
   },
   "file_extension": ".py",
   "mimetype": "text/x-python",
   "name": "python",
   "nbconvert_exporter": "python",
   "pygments_lexer": "ipython3",
   "version": "3.9.12"
  }
 },
 "nbformat": 4,
 "nbformat_minor": 5
}
